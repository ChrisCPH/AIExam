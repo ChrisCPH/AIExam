{
 "cells": [
  {
   "cell_type": "code",
   "execution_count": 1,
   "id": "64a20520-f5d9-4b00-96a6-1c49336125e8",
   "metadata": {},
   "outputs": [],
   "source": [
    "import pandas as pd\n",
    "import os\n",
    "from collections import defaultdict"
   ]
  },
  {
   "cell_type": "markdown",
   "id": "43c78f47-0975-438a-9c25-45869c788b05",
   "metadata": {},
   "source": [
    "All data found here: https://rkr.statistikbank.dk/statbank5a/SelectVarVal/Define.asp?MainTable=UDB020&PLanguage=0&PXSId=0&wsid=cflastupd"
   ]
  },
  {
   "cell_type": "code",
   "execution_count": 2,
   "id": "701d9e8d-1766-4a4d-ad93-2aec9a791a0d",
   "metadata": {},
   "outputs": [],
   "source": [
    "csv_list = ['./Data/CSV/Ejerlejlighed_2004_2017.csv',\n",
    "           './Data/CSV/Ejerlejlighed_2018_2024.csv',\n",
    "           './Data/CSV/Fritidshus_2004_2017.csv',\n",
    "           './Data/CSV/Fritidshus_2018_2024.csv',\n",
    "           './Data/CSV/Parcel_2004_2017.csv',\n",
    "           './Data/CSV/Parcel_2018_2024.csv']\n",
    "\n",
    "output_dir = './Data/Data_cleaned'"
   ]
  },
  {
   "cell_type": "code",
   "execution_count": 3,
   "id": "ab563779-bb67-46c6-9ea9-432def3fb90d",
   "metadata": {},
   "outputs": [
    {
     "name": "stdout",
     "output_type": "stream",
     "text": [
      "Data for Ejerlejlighed has been combined and saved to ./Data/Data_cleaned\\Cleaned_Ejerlejlighed.csv\n",
      "Data for Fritidshus has been combined and saved to ./Data/Data_cleaned\\Cleaned_Fritidshus.csv\n",
      "Data for Parcel has been combined and saved to ./Data/Data_cleaned\\Cleaned_Parcel.csv\n"
     ]
    }
   ],
   "source": [
    "# Changing the data into three columns Pris, Kommune, Dato\n",
    "file_groups = defaultdict(list)\n",
    "\n",
    "# Getting the first part of the file name so that they can be combined\n",
    "for csv in csv_list:\n",
    "    prefix = '_'.join(os.path.basename(csv).split('_')[:-2])\n",
    "    file_groups[prefix].append(csv)\n",
    "\n",
    "for prefix, files in file_groups.items():\n",
    "    combined_df = pd.DataFrame()\n",
    "    for csv in files:\n",
    "        df = pd.read_csv(csv, sep=';', encoding='latin1')\n",
    "\n",
    "        headers = df.columns[1:]\n",
    "        cities = df.iloc[:, 0]\n",
    "        data = df.iloc[:, 1:]\n",
    "\n",
    "        if len(headers) != data.shape[1]:\n",
    "            raise ValueError(f\"Column length mismatch in file {csv}: expected {len(headers)} columns, got {data.shape[1]} columns\")\n",
    "\n",
    "        df_transposed = data.transpose()\n",
    "        df_transposed.columns = cities\n",
    "        df_transposed = df_transposed.reset_index()\n",
    "\n",
    "        df_transposed.columns = ['Dato'] + cities.tolist()\n",
    "\n",
    "        df_long = pd.melt(df_transposed, id_vars=['Dato'], var_name='Kommune', value_name='Pris')\n",
    "\n",
    "        # Converting to datetimes\n",
    "        df_long['Dato'] = pd.to_datetime(df_long['Dato'], format='%YM%m')\n",
    "\n",
    "        df_long = df_long[['Pris', 'Kommune', 'Dato']]\n",
    "\n",
    "        combined_df = pd.concat([combined_df, df_long])\n",
    "\n",
    "    combined_df.reset_index(drop=True, inplace=True)\n",
    "\n",
    "    output_file = os.path.join(output_dir, f'Cleaned_{prefix}.csv')\n",
    "    combined_df.to_csv(output_file, index=False, sep=';', encoding='latin1')\n",
    "\n",
    "    print(f\"Data for {prefix} has been combined and saved to {output_file}\")"
   ]
  },
  {
   "cell_type": "code",
   "execution_count": 4,
   "id": "6399f2ea-dadd-4e4b-b1a3-8bb3dc7ca4c8",
   "metadata": {},
   "outputs": [
    {
     "name": "stdout",
     "output_type": "stream",
     "text": [
      "All data has been combined and saved to ./Data/Data_cleaned\\Cleaned_All.csv\n"
     ]
    }
   ],
   "source": [
    "# Combining all 6 into one file with the prefix becoming a new column\n",
    "combined_df = pd.DataFrame()\n",
    "\n",
    "for csv in csv_list:\n",
    "    prefix = '_'.join(os.path.basename(csv).split('_')[:-2])\n",
    "\n",
    "    df = pd.read_csv(csv, sep=';', encoding='latin1')\n",
    "\n",
    "    headers = df.columns[1:]\n",
    "    cities = df.iloc[:, 0]\n",
    "    data = df.iloc[:, 1:]\n",
    "\n",
    "    if len(headers) != data.shape[1]:\n",
    "        raise ValueError(f\"Column length mismatch in file {csv}: expected {len(headers)} columns, got {data.shape[1]} columns\")\n",
    "\n",
    "    df_transposed = data.transpose()\n",
    "    df_transposed.columns = cities\n",
    "    df_transposed = df_transposed.reset_index()\n",
    "    df_transposed.columns = ['Dato'] + cities.tolist()\n",
    "    df_long = pd.melt(df_transposed, id_vars=['Dato'], var_name='Kommune', value_name='Pris')\n",
    "    df_long['Dato'] = pd.to_datetime(df_long['Dato'], format='%YM%m')\n",
    "    df_long = df_long[['Pris', 'Kommune', 'Dato']]\n",
    "\n",
    "    # Add the Boligtype column\n",
    "    df_long['Boligtype'] = prefix\n",
    "\n",
    "    combined_df = pd.concat([combined_df, df_long], ignore_index=True)\n",
    "\n",
    "output_file = os.path.join(output_dir, 'Cleaned_All.csv')\n",
    "combined_df.to_csv(output_file, index=False, sep=';', encoding='latin1')\n",
    "\n",
    "print(f\"All data has been combined and saved to {output_file}\")"
   ]
  },
  {
   "cell_type": "code",
   "execution_count": null,
   "id": "df9ddbd8-56ce-4ca0-8015-b736b8eac15f",
   "metadata": {},
   "outputs": [],
   "source": []
  }
 ],
 "metadata": {
  "kernelspec": {
   "display_name": "Python 3 (ipykernel)",
   "language": "python",
   "name": "python3"
  },
  "language_info": {
   "codemirror_mode": {
    "name": "ipython",
    "version": 3
   },
   "file_extension": ".py",
   "mimetype": "text/x-python",
   "name": "python",
   "nbconvert_exporter": "python",
   "pygments_lexer": "ipython3",
   "version": "3.12.4"
  }
 },
 "nbformat": 4,
 "nbformat_minor": 5
}
