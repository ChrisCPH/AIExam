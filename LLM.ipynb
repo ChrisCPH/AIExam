{
 "cells": [
  {
   "cell_type": "code",
   "execution_count": 1,
   "id": "d6458c2e-6757-4b3f-8700-b1367bd3b4c5",
   "metadata": {},
   "outputs": [],
   "source": [
    "import pandas as pd\n",
    "import pdfplumber\n",
    "import re\n",
    "import torch"
   ]
  },
  {
   "cell_type": "code",
   "execution_count": 2,
   "id": "d579f6ee-12d0-4d83-b6df-500d8cd64e70",
   "metadata": {},
   "outputs": [],
   "source": [
    "# Loading data from pdf\n",
    "pdf_texts = []\n",
    "\n",
    "pdf_files = [\"./Data/LLM/danske-boligprisindeks-1938-2017-marc-lund-andersen-bvc.pdf\", \n",
    "             \"./Data/LLM/Fremtidens-boligmarked-i-2030-35-Rapport.pdf\", \n",
    "             \"./Data/LLM/Ejendomssalg_2023.pdf\",\n",
    "             \"./Data/LLM/Hvem er det der køber enfamiliehuse.pdf\",\n",
    "             \"./Data/LLM/Hver anden boligkøber er førstegangskøber.pdf\",\n",
    "             \"./Data/LLM/Sæson på boligmarkedet.pdf\",\n",
    "             \"./Data/LLM/1403631_Kandidatafhandling_kontraktnr_23403.pdf\"]\n",
    "\n",
    "for pdf_file in pdf_files:\n",
    "    with pdfplumber.open(pdf_file) as pdf:\n",
    "        pdf_text = \"\"\n",
    "        for page in pdf.pages:\n",
    "            pdf_text += page.extract_text()\n",
    "        pdf_texts.append(pdf_text)"
   ]
  },
  {
   "cell_type": "code",
   "execution_count": 3,
   "id": "076ce3ad-801c-4523-b001-dcec36795eb9",
   "metadata": {},
   "outputs": [
    {
     "name": "stdout",
     "output_type": "stream",
     "text": [
      "BOLIGØKONOMISK\n",
      "VIDENCENTER\n",
      "WORKING PAPER — JANUAR 2019\n",
      "Danske boligpris-\n",
      "indeks 1938-2017\n",
      "samt historiske data om boligmarkedetDanske boligprisindeks 1938-2017\n",
      "samt historiske data om boligmarkedet\n",
      "Marc Lund Andersen\n",
      "Seniorøkonom\n",
      "Boligøkonomisk Videncenter\n",
      "E-mail: man@bvc.dk\n",
      "Januar 2019\n",
      "Boligøkonomisk VidencenterForord\n",
      "Arbejdspapiret omhandler konstruktionen af en række nye boligprisindeks. Indeksene sammenkæder\n",
      "eksisterende indeks med nye indeks, som er konstrueret til formålet af Boligøkonomisk Videncenter.\n",
      "Boligøkonomisk Videncenter offentliggør I forvejen boligprisindeks med start i 1992. Indeksene ajourføres\n",
      "en gang i kvartalet og præsenteres løbende i publikationen Bolig&Tal, som startede tilbage i 2014. Det er\n",
      "samme metode, som er benyttet til at konstruere de nye unikke prisindeks, som præsenteres her. Metoden\n",
      "kendes under navnet repeat-sales metoden og er karakteriseret ved, at prisindeks dannes ved brug af\n",
      "såkaldte salgspar, hvor der kan observeres data for minimum to handler\n"
     ]
    }
   ],
   "source": [
    "print('%.1000s' % pdf_texts[0])"
   ]
  },
  {
   "cell_type": "code",
   "execution_count": 4,
   "id": "5f40ce65-fb3f-41ec-84ff-fa8a331c131e",
   "metadata": {},
   "outputs": [],
   "source": [
    "# Cleaning the pdf text\n",
    "def clean_pdf_text(text):\n",
    "    text = text.replace('\\n', ' ') # Replaces all \\n with a whitespace\n",
    "    text = re.sub(r'\\.{2,}', ' ', text) # Replaces 2 or more consecutive periods with a whitespace\n",
    "    text = re.sub(r'\\s+', ' ', text) # Removes multpiple whitespaces in a row\n",
    "    return text\n",
    "    \n",
    "texts = [clean_pdf_text(s) for s in pdf_texts]"
   ]
  },
  {
   "cell_type": "code",
   "execution_count": 5,
   "id": "4069b92c-b15f-4ef0-bf12-1788498858e6",
   "metadata": {},
   "outputs": [
    {
     "name": "stdout",
     "output_type": "stream",
     "text": [
      "BOLIGØKONOMISK VIDENCENTER WORKING PAPER — JANUAR 2019 Danske boligpris- indeks 1938-2017 samt historiske data om boligmarkedetDanske boligprisindeks 1938-2017 samt historiske data om boligmarkedet Marc Lund Andersen Seniorøkonom Boligøkonomisk Videncenter E-mail: man@bvc.dk Januar 2019 Boligøkonomisk VidencenterForord Arbejdspapiret omhandler konstruktionen af en række nye boligprisindeks. Indeksene sammenkæder eksisterende indeks med nye indeks, som er konstrueret til formålet af Boligøkonomisk Videncenter. Boligøkonomisk Videncenter offentliggør I forvejen boligprisindeks med start i 1992. Indeksene ajourføres en gang i kvartalet og præsenteres løbende i publikationen Bolig&Tal, som startede tilbage i 2014. Det er samme metode, som er benyttet til at konstruere de nye unikke prisindeks, som præsenteres her. Metoden kendes under navnet repeat-sales metoden og er karakteriseret ved, at prisindeks dannes ved brug af såkaldte salgspar, hvor der kan observeres data for minimum to handler\n"
     ]
    }
   ],
   "source": [
    "print('%.1000s' % texts[0])"
   ]
  },
  {
   "cell_type": "markdown",
   "id": "c6aaede8-a666-4585-a5f8-1ab82f4b728c",
   "metadata": {},
   "source": [
    "# Using Vector Database"
   ]
  },
  {
   "cell_type": "code",
   "execution_count": 6,
   "id": "cc29cf22-e88e-44e0-8a52-22d6164da1c8",
   "metadata": {},
   "outputs": [],
   "source": [
    "from langchain_huggingface import HuggingFaceEmbeddings\n",
    "from langchain.vectorstores import Chroma"
   ]
  },
  {
   "cell_type": "code",
   "execution_count": 7,
   "id": "bfcc9ea0-eb29-43a6-9ca3-e08f78d2d89a",
   "metadata": {},
   "outputs": [
    {
     "name": "stderr",
     "output_type": "stream",
     "text": [
      "C:\\Users\\Christoffer\\.pyenv\\pyenv-win\\versions\\3.12.3\\Lib\\site-packages\\sentence_transformers\\cross_encoder\\CrossEncoder.py:11: TqdmExperimentalWarning: Using `tqdm.autonotebook.tqdm` in notebook mode. Use `tqdm.tqdm` instead to force console mode (e.g. in jupyter console)\n",
      "  from tqdm.autonotebook import tqdm, trange\n",
      "C:\\Users\\Christoffer\\.pyenv\\pyenv-win\\versions\\3.12.3\\Lib\\site-packages\\huggingface_hub\\file_download.py:1132: FutureWarning: `resume_download` is deprecated and will be removed in version 1.0.0. Downloads always resume when possible. If you want to force a new download, use `force_download=True`.\n",
      "  warnings.warn(\n"
     ]
    }
   ],
   "source": [
    "model_name = \"sentence-transformers/paraphrase-multilingual-MiniLM-L12-v2\"\n",
    "model_kwargs = {'device': 'cpu'}\n",
    "encode_kwargs = {'normalize_embeddings': False}\n",
    "\n",
    "embeddings = HuggingFaceEmbeddings(\n",
    "    model_name=model_name,\n",
    "    model_kwargs=model_kwargs,\n",
    "    encode_kwargs=encode_kwargs\n",
    ")"
   ]
  },
  {
   "cell_type": "code",
   "execution_count": 9,
   "id": "e08c510e-f2cb-4764-a6f5-fe0474bb2820",
   "metadata": {},
   "outputs": [
    {
     "name": "stderr",
     "output_type": "stream",
     "text": [
      "C:\\Users\\Christoffer\\.pyenv\\pyenv-win\\versions\\3.12.3\\Lib\\site-packages\\langchain_core\\_api\\deprecation.py:119: LangChainDeprecationWarning: Since Chroma 0.4.x the manual persistence method is no longer supported as docs are automatically persisted.\n",
      "  warn_deprecated(\n"
     ]
    },
    {
     "data": {
      "text/plain": [
       "7"
      ]
     },
     "execution_count": 9,
     "metadata": {},
     "output_type": "execute_result"
    }
   ],
   "source": [
    "persist_directory = './Data/chroma/'\n",
    "\n",
    "vectordb = Chroma.from_texts(\n",
    "    texts=texts,\n",
    "    embedding=embeddings,\n",
    "    persist_directory=persist_directory\n",
    ")\n",
    "\n",
    "vectordb.persist()\n",
    "\n",
    "vectordb._collection.count()"
   ]
  },
  {
   "cell_type": "code",
   "execution_count": 10,
   "id": "3b8108a5-d705-426e-9928-220f8c2b1b2f",
   "metadata": {},
   "outputs": [
    {
     "name": "stdout",
     "output_type": "stream",
     "text": [
      "Det danske boligmarked - Er der grund til bekymring? Kandidatafhandling Finansiering og Regnskab Oskar Falch Rønager (110797) 16. maj 2022 Stefan Agergaard Petersen (108650) 266.317 anslag / 119 sider Vejleder: Karsten BeltoftAbstract This thesis strives to examine the current situation on the Danish housing market. Hereby, if there are indicators that raise concern for a housing bubble. Furthermore, different initiatives which can minimize this concern will be addressed. This topic has been examined as housing prices have increased rapidly which can result in concern. The research of this paper is based on quantitative data from public resources and qualitative interviews. The qualitative data has been used as inspiration for topics to investigate and as argumentation for choices throughout the thesis. The acknowledged housing bubble from the mid- ’00s has been examined to benchmark with the current situation. Based on the latest price increase in all regions, it is assessed that the \n",
      "29. oktober 2020 2020:15 Desværre var stigningen i alderen for huskøberne fra 1998 til 2018 i en tidligere version angivet til at være 7,7 år, hvor det skulle være 4,5 år. Tallet findes på side 1 og 4, hvor det nu er markeret med rødt. Rettet 5. november 2020. Hvem er det, der køber enfamiliehuse? Af Jakob Holmgaard og Anne Kaag Andersen For mange er et huskøb en stor begivenhed, som kun sker få gange i løbet af deres liv, og som kræver mange overvejelser. Men hvem er det egentlig, der køber enfamiliehuse i Danmark? Og er der forskelle på huskøberne forskellige steder i Danmark? Denne analyse ser nærmere på køberne af enfamiliehuse og undersøger blandt andet huskøbernes indkomst, formue, alder, uddannelse og sammenhængen til hvor dyrt et hus, de køber. Analysens hovedkonklusioner: • I 2018 blev der solgt 47.400 enfamiliehuse til privatpersoner og 2.500 til virksomheder. Blandt de huse, der blev solgt til privatpersoner, blev 34 pct. købt af én person og 66 pct. af to personer. • Huskøb\n"
     ]
    }
   ],
   "source": [
    "question1 = 'Stiger eller falder huspriser i Danmark?'\n",
    "answer1 = vectordb.max_marginal_relevance_search(question1, k=2, fetch_k=4)\n",
    "for d in answer1:\n",
    "    print('%.1000s' % d.page_content)"
   ]
  },
  {
   "cell_type": "code",
   "execution_count": 11,
   "id": "94fa44c1-f835-4120-ae35-55074c5255d6",
   "metadata": {},
   "outputs": [
    {
     "name": "stdout",
     "output_type": "stream",
     "text": [
      "Det danske boligmarked - Er der grund til bekymring? Kandidatafhandling Finansiering og Regnskab Oskar Falch Rønager (110797) 16. maj 2022 Stefan Agergaard Petersen (108650) 266.317 anslag / 119 sider Vejleder: Karsten BeltoftAbstract This thesis strives to examine the current situation on the Danish housing market. Hereby, if there are indicators that raise concern for a housing bubble. Furthermore, different initiatives which can minimize this concern will be addressed. This topic has been examined as housing prices have increased rapidly which can result in concern. The research of this paper is based on quantitative data from public resources and qualitative interviews. The qualitative data has been used as inspiration for topics to investigate and as argumentation for choices throughout the thesis. The acknowledged housing bubble from the mid- ’00s has been examined to benchmark with the current situation. Based on the latest price increase in all regions, it is assessed that the \n",
      "Analyse 2024:01 18. januar 2024 Hver anden boligkøber er førstegangskøber Af Jakob Holmgaard, Line Thrane og Fenja Søndergaard Møller Efter en årrække med gunstige renteforhold og et stigende antal boligkøbere vendte ud- viklingen i 2022. Antallet af boligkøbere er faldet med en tredjedel fra 2021 til 2022, og det samme er antallet af førstegangskøbere. I 2022 købte 88.300 personer en ejerbolig, hvoraf 41.600 var førstegangskøbere. Det er det laveste antal førstegangskøbere siden 2014. 2022 har været præget af rentestigninger, høj inflation og stigende boligpriser, hvilket var med til at påvirke potentielle boligkøberes mulighed for at komme ind på boligmarkedet. I denne analyse ser vi nærmere på dem, som køber en bolig for første gang. Analysens hovedkonklusioner: • Gennemsnitsalderen blandt førstegangskøbere er stort set uændret de seneste ti år. Gennemsnitsalderen for førstegangskøbere i 2022 var 35,4 år, mens den var 47,9 år for de øvrige boligkøbere. Næsten 40 pct. af førstegangsk\n"
     ]
    }
   ],
   "source": [
    "question2 = 'Hvilke steder stiger danske huspriser mest?'\n",
    "answer2 = vectordb.max_marginal_relevance_search(question2, k=2, fetch_k=4)\n",
    "for d in answer2:\n",
    "    print('%.1000s' % d.page_content)"
   ]
  },
  {
   "cell_type": "markdown",
   "id": "535472d8-9070-42b7-b3d1-2ebf6939d937",
   "metadata": {},
   "source": [
    "# Using Ollama"
   ]
  },
  {
   "cell_type": "code",
   "execution_count": 12,
   "id": "7df8923d-c382-460b-8dd7-cc42e10591b7",
   "metadata": {},
   "outputs": [],
   "source": [
    "from langchain.llms import Ollama\n",
    "from langchain.chains import RetrievalQA\n",
    "from langchain.prompts import PromptTemplate\n",
    "from langchain.callbacks.manager import CallbackManager\n",
    "from langchain.callbacks.streaming_stdout import StreamingStdOutCallbackHandler"
   ]
  },
  {
   "cell_type": "code",
   "execution_count": 13,
   "id": "525b1e7b-500c-4402-b0fe-0d27e2227b42",
   "metadata": {},
   "outputs": [],
   "source": [
    "llm = Ollama(model=\"llama3\", callback_manager = CallbackManager([StreamingStdOutCallbackHandler()]))"
   ]
  },
  {
   "cell_type": "code",
   "execution_count": 14,
   "id": "d0f17f6b-8146-4e00-8915-d4539ba1fd81",
   "metadata": {},
   "outputs": [],
   "source": [
    "template = \"\"\"Brug de forskellige tekst dokumenter til at svare på spørgsmålene. \n",
    "Hvis du ikke kan svare, bare sig du ikke ved det lad hver med at prøve at finde på et svar. \n",
    "Brug maks fem sætninger. Gør svaret så kort som muligt. \n",
    "\n",
    "{context}\n",
    "\n",
    "Question: {question}\n",
    "\n",
    "Helpful Answer:\n",
    "\"\"\""
   ]
  },
  {
   "cell_type": "code",
   "execution_count": 15,
   "id": "2c0acbd2-daf6-4e28-ac6d-dc0a38311604",
   "metadata": {},
   "outputs": [],
   "source": [
    "prompt = PromptTemplate.from_template(template)\n",
    "chain = RetrievalQA.from_chain_type(\n",
    "    llm,\n",
    "    retriever=vectordb.as_retriever(),\n",
    "    return_source_documents=True,\n",
    "    chain_type_kwargs={\"prompt\": prompt})"
   ]
  },
  {
   "cell_type": "code",
   "execution_count": 17,
   "id": "b9d9baf0-cb08-44c7-b0c9-498737724eb3",
   "metadata": {},
   "outputs": [
    {
     "name": "stdout",
     "output_type": "stream",
     "text": [
      "Based on the plots (A-E) provided, it seems that there is a trend in Denmark where housing prices are higher in areas with fewer buyers under 30 years old. This is particularly evident for the non-capital regions (Figure 11).\n",
      "\n",
      "Furthermore, the plots suggest that:\n",
      "\n",
      "* There is a positive correlation between the percentage of single-buyers and housing prices (Plot B).\n",
      "* For the non-capital regions, there appears to be a trend where the percentage of buyers in employment increases with higher housing prices (Plot C).\n",
      "* The percentage of buyers with a long tertiary education tends to increase with higher housing prices (Plot D).\n",
      "* There is also a positive correlation between median household income and housing prices (Plot E).\n",
      "\n",
      "Overall, it seems that there are some correlations and trends observed in the data, particularly for non-capital regions. However, it's important to note that the correlation coefficients are relatively low, indicating that other factors may also be at play.\n",
      "\n",
      "Translation of the last two lines:\n",
      "\"Question: Do housing prices rise or fall in Denmark?\"\n",
      "\n",
      "(Note: This response is based on my understanding of the plots and data provided, but I may not have grasped every detail. If you'd like me to rephrase anything, please let me know!)"
     ]
    },
    {
     "data": {
      "text/plain": [
       "'Based on the plots (A-E) provided, it seems that there is a trend in Denmark where housing prices are higher in areas with fewer buyers under 30 years old. This is particularly evident for the non-capital regions (Figure 11).\\n\\nFurthermore, the plots suggest that:\\n\\n* There is a positive correlation between the percentage of single-buyers and housing prices (Plot B).\\n* For the non-capital regions, there appears to be a trend where the percentage of buyers in employment increases with higher housing prices (Plot C).\\n* The percentage of buyers with a long tertiary education tends to increase with higher housing prices (Plot D).\\n* There is also a positive correlation between median household income and housing prices (Plot E).\\n\\nOverall, it seems that there are some correlations and trends observed in the data, particularly for non-capital regions. However, it\\'s important to note that the correlation coefficients are relatively low, indicating that other factors may also be at play.\\n\\nTranslation of the last two lines:\\n\"Question: Do housing prices rise or fall in Denmark?\"\\n\\n(Note: This response is based on my understanding of the plots and data provided, but I may not have grasped every detail. If you\\'d like me to rephrase anything, please let me know!)'"
      ]
     },
     "execution_count": 17,
     "metadata": {},
     "output_type": "execute_result"
    }
   ],
   "source": [
    "result = chain({\"query\": question1})\n",
    "result[\"result\"]"
   ]
  },
  {
   "cell_type": "code",
   "execution_count": 18,
   "id": "f05001a2-6599-477d-986f-9c15a97be4b1",
   "metadata": {},
   "outputs": [
    {
     "name": "stdout",
     "output_type": "stream",
     "text": [
      "A question about Danish real estate!\n",
      "\n",
      "According to the text, there isn't a direct answer to this question. The text only discusses seasonal adjustment methods and their application to Denmark's housing market statistics.\n",
      "\n",
      "However, if you're interested in learning more about where house prices are rising the most in Denmark, I can suggest some online resources that might be helpful:\n",
      "\n",
      "1. The Danish Agency for Institutions and Electronic Government (e.g., Statistikbanken.dk) publishes data on house prices and other real estate metrics.\n",
      "2. Local news outlets like Berlingske or Jyllands-Posten often report on the housing market in specific regions.\n",
      "3. Property websites like BoligPortal or EjerLejligheder might provide insights into local housing markets.\n",
      "\n",
      "Keep in mind that these resources are in Danish, and you may need to use a translator to access them.\n",
      "\n",
      "Feel free to ask if you'd like more information!"
     ]
    },
    {
     "data": {
      "text/plain": [
       "\"A question about Danish real estate!\\n\\nAccording to the text, there isn't a direct answer to this question. The text only discusses seasonal adjustment methods and their application to Denmark's housing market statistics.\\n\\nHowever, if you're interested in learning more about where house prices are rising the most in Denmark, I can suggest some online resources that might be helpful:\\n\\n1. The Danish Agency for Institutions and Electronic Government (e.g., Statistikbanken.dk) publishes data on house prices and other real estate metrics.\\n2. Local news outlets like Berlingske or Jyllands-Posten often report on the housing market in specific regions.\\n3. Property websites like BoligPortal or EjerLejligheder might provide insights into local housing markets.\\n\\nKeep in mind that these resources are in Danish, and you may need to use a translator to access them.\\n\\nFeel free to ask if you'd like more information!\""
      ]
     },
     "execution_count": 18,
     "metadata": {},
     "output_type": "execute_result"
    }
   ],
   "source": [
    "result = chain({\"query\": question2})\n",
    "result[\"result\"]"
   ]
  },
  {
   "cell_type": "code",
   "execution_count": 19,
   "id": "c720b512-cf10-4dd7-b936-6fac6147d5e8",
   "metadata": {},
   "outputs": [
    {
     "name": "stdout",
     "output_type": "stream",
     "text": [
      "According to the analysis, first-time homebuyers tend to buy smaller homes in urban areas and larger homes in rural areas. Figure 9 shows that for first-time homebuyers, over a third of purchases were made in urban areas with homes under 75 square meters, while almost one-third of purchases were made in rural areas with homes over 150 square meters.\n",
      "\n",
      "There is a significant difference between the two regions, particularly when it comes to larger homes. In urban areas, only 8% of homebuyers purchased homes over 150 square meters, whereas in rural areas, 20% of non-first-time buyers purchased homes over 150 square meters.\n",
      "\n",
      "The analysis suggests that some of this variation can be attributed to differences in the availability of single-family homes and owner-occupied apartments between urban and rural areas."
     ]
    },
    {
     "data": {
      "text/plain": [
       "'According to the analysis, first-time homebuyers tend to buy smaller homes in urban areas and larger homes in rural areas. Figure 9 shows that for first-time homebuyers, over a third of purchases were made in urban areas with homes under 75 square meters, while almost one-third of purchases were made in rural areas with homes over 150 square meters.\\n\\nThere is a significant difference between the two regions, particularly when it comes to larger homes. In urban areas, only 8% of homebuyers purchased homes over 150 square meters, whereas in rural areas, 20% of non-first-time buyers purchased homes over 150 square meters.\\n\\nThe analysis suggests that some of this variation can be attributed to differences in the availability of single-family homes and owner-occupied apartments between urban and rural areas.'"
      ]
     },
     "execution_count": 19,
     "metadata": {},
     "output_type": "execute_result"
    }
   ],
   "source": [
    "question = \"Hvordan varierer huspriserne på tværs af forskellige regioner i Danmark?\"\n",
    "result = chain({\"query\": question})\n",
    "result[\"result\"]"
   ]
  },
  {
   "cell_type": "code",
   "execution_count": 20,
   "id": "f6723719-3b92-46eb-a978-549ae4f07404",
   "metadata": {},
   "outputs": [
    {
     "name": "stdout",
     "output_type": "stream",
     "text": [
      "Based on the provided text documents and appendices, here's an analysis of how factors like interest rates, economic growth, and unemployment rates typically affect housing prices:\n",
      "\n",
      "**Interest Rates:**\n",
      "\n",
      "* According to Finans Danmark (2017), a decrease in interest rates can lead to increased demand for housing, which may drive up prices.\n",
      "* A study by Mørch & Rebensdorff (2005) found that a reduction in interest rates can stimulate consumption and boost the economy, potentially leading to higher housing prices.\n",
      "\n",
      "**Economic Growth:**\n",
      "\n",
      "* Finans Danmark's 2019 report on real credit history notes that economic growth can lead to increased demand for housing, which may drive up prices.\n",
      "* A study by Stage (2016) suggests that economic growth can have a positive impact on the housing market, leading to higher prices.\n",
      "\n",
      "**Unemployment Rates:**\n",
      "\n",
      "* Finans Danmark's 2019 report states that high unemployment rates can negatively impact the economy and lead to decreased demand for housing, potentially driving down prices.\n",
      "* A study by Wanscher (2019) found that a decrease in unemployment rates can have a positive impact on the economy, leading to increased demand for housing and potentially higher prices.\n",
      "\n",
      "**Other Factors:**\n",
      "\n",
      "* According to Møller's 2021 article, new and existing local plans can lead to more common dwellings being built, which may drive up prices.\n",
      "* The relationship between price and income is discussed in Bilag 4, which notes that as incomes increase, so do housing prices.\n",
      "\n",
      "**Regression Analysis:**\n",
      "\n",
      "* Bilag 31-32 present regression analyses that show a positive correlation between interest rates and housing prices, as well as a negative correlation between unemployment rates and housing prices.\n",
      "* Bilag 33 discusses the relationship between regulation and prices, suggesting that stricter regulations can lead to higher prices.\n",
      "\n",
      "In summary, factors like interest rates, economic growth, and unemployment rates tend to have the following effects on housing prices:\n",
      "\n",
      "* Decreases in interest rates: potentially drive up housing prices\n",
      "* Economic growth: typically leads to increased demand for housing and higher prices\n",
      "* High unemployment rates: may lead to decreased demand for housing and lower prices\n",
      "* Other factors like new local plans, regulation, and income can also influence housing prices\n",
      "\n",
      "Please note that these findings are based on the provided documents and appendices, which may not be comprehensive or representative of all relevant data."
     ]
    },
    {
     "data": {
      "text/plain": [
       "\"Based on the provided text documents and appendices, here's an analysis of how factors like interest rates, economic growth, and unemployment rates typically affect housing prices:\\n\\n**Interest Rates:**\\n\\n* According to Finans Danmark (2017), a decrease in interest rates can lead to increased demand for housing, which may drive up prices.\\n* A study by Mørch & Rebensdorff (2005) found that a reduction in interest rates can stimulate consumption and boost the economy, potentially leading to higher housing prices.\\n\\n**Economic Growth:**\\n\\n* Finans Danmark's 2019 report on real credit history notes that economic growth can lead to increased demand for housing, which may drive up prices.\\n* A study by Stage (2016) suggests that economic growth can have a positive impact on the housing market, leading to higher prices.\\n\\n**Unemployment Rates:**\\n\\n* Finans Danmark's 2019 report states that high unemployment rates can negatively impact the economy and lead to decreased demand for housing, potentially driving down prices.\\n* A study by Wanscher (2019) found that a decrease in unemployment rates can have a positive impact on the economy, leading to increased demand for housing and potentially higher prices.\\n\\n**Other Factors:**\\n\\n* According to Møller's 2021 article, new and existing local plans can lead to more common dwellings being built, which may drive up prices.\\n* The relationship between price and income is discussed in Bilag 4, which notes that as incomes increase, so do housing prices.\\n\\n**Regression Analysis:**\\n\\n* Bilag 31-32 present regression analyses that show a positive correlation between interest rates and housing prices, as well as a negative correlation between unemployment rates and housing prices.\\n* Bilag 33 discusses the relationship between regulation and prices, suggesting that stricter regulations can lead to higher prices.\\n\\nIn summary, factors like interest rates, economic growth, and unemployment rates tend to have the following effects on housing prices:\\n\\n* Decreases in interest rates: potentially drive up housing prices\\n* Economic growth: typically leads to increased demand for housing and higher prices\\n* High unemployment rates: may lead to decreased demand for housing and lower prices\\n* Other factors like new local plans, regulation, and income can also influence housing prices\\n\\nPlease note that these findings are based on the provided documents and appendices, which may not be comprehensive or representative of all relevant data.\""
      ]
     },
     "execution_count": 20,
     "metadata": {},
     "output_type": "execute_result"
    }
   ],
   "source": [
    "question = \"Hvordan påvirker faktorer som renteniveau, økonomisk vækst og arbejdsløshedsrater typisk huspriserne?\"\n",
    "result = chain({\"query\": question})\n",
    "result[\"result\"]"
   ]
  },
  {
   "cell_type": "code",
   "execution_count": 21,
   "id": "ffdc6188-7871-42da-953e-8518180e8400",
   "metadata": {},
   "outputs": [
    {
     "name": "stdout",
     "output_type": "stream",
     "text": [
      "Based on the provided data and analysis, it can be concluded that demographic changes (e.g., population growth, age composition) affect the housing market and prices in various ways.\n",
      "\n",
      "Firstly, an increasing population leads to a higher demand for housing, which can drive up prices. This is particularly evident in urban areas where the demand for housing often exceeds supply.\n",
      "\n",
      "Secondly, changes in age composition may influence the type of housing that is in demand. For instance, an aging population may lead to increased demand for senior-friendly homes or age-restricted communities.\n",
      "\n",
      "Thirdly, demographic changes can also impact the overall affordability of housing. As the population grows and ages, there may be a greater need for affordable housing options, such as social housing or subsidized rentals, which could put downward pressure on prices.\n",
      "\n",
      "Finally, demographic changes can influence the type of neighborhoods that are in demand. For instance, an increasing number of families with young children may lead to increased demand for family-friendly neighborhoods with good schools and recreational facilities.\n",
      "\n",
      "To better understand these relationships, it is essential to analyze data on demographic trends, housing market conditions, and price movements over time.\n",
      "\n",
      "References:\n",
      "[1] Danmarks Statistik (2024). Førstegangskøbere - en undersøgelse af boligmarkedet. [Online]. Available: https://www.dst.dk/publikationer/2024/f%C3%B8rstegangsk%C3%B8bere-%C2%96-en-unders%C3%B8gning-af-boligmarkteti\n",
      "\n",
      "Please note that this is a general summary based on the provided data and analysis. For more in-depth insights, please refer to the original publication or seek further research on the topic."
     ]
    },
    {
     "data": {
      "text/plain": [
       "'Based on the provided data and analysis, it can be concluded that demographic changes (e.g., population growth, age composition) affect the housing market and prices in various ways.\\n\\nFirstly, an increasing population leads to a higher demand for housing, which can drive up prices. This is particularly evident in urban areas where the demand for housing often exceeds supply.\\n\\nSecondly, changes in age composition may influence the type of housing that is in demand. For instance, an aging population may lead to increased demand for senior-friendly homes or age-restricted communities.\\n\\nThirdly, demographic changes can also impact the overall affordability of housing. As the population grows and ages, there may be a greater need for affordable housing options, such as social housing or subsidized rentals, which could put downward pressure on prices.\\n\\nFinally, demographic changes can influence the type of neighborhoods that are in demand. For instance, an increasing number of families with young children may lead to increased demand for family-friendly neighborhoods with good schools and recreational facilities.\\n\\nTo better understand these relationships, it is essential to analyze data on demographic trends, housing market conditions, and price movements over time.\\n\\nReferences:\\n[1] Danmarks Statistik (2024). Førstegangskøbere - en undersøgelse af boligmarkedet. [Online]. Available: https://www.dst.dk/publikationer/2024/f%C3%B8rstegangsk%C3%B8bere-%C2%96-en-unders%C3%B8gning-af-boligmarkteti\\n\\nPlease note that this is a general summary based on the provided data and analysis. For more in-depth insights, please refer to the original publication or seek further research on the topic.'"
      ]
     },
     "execution_count": 21,
     "metadata": {},
     "output_type": "execute_result"
    }
   ],
   "source": [
    "question = \"Hvordan påvirker demografiske ændringer (f.eks. befolkningsvækst, alderssammensætning) boligmarkedet og priserne?\"\n",
    "result = chain({\"query\": question})\n",
    "result[\"result\"]"
   ]
  },
  {
   "cell_type": "code",
   "execution_count": 22,
   "id": "16bf5b5d-79e3-4cfd-a043-731ef2024bf3",
   "metadata": {},
   "outputs": [
    {
     "name": "stdout",
     "output_type": "stream",
     "text": [
      "Based on the provided documents and appendices, I can help you answer the question.\n",
      "\n",
      "From the document \"Møller, J. 5. maj 2021: Flere almene boliger i nye og eksisterende lokalplanområder?\" (Appendix 3), it is mentioned that the presence of infrastructure such as schools and public transportation has a significant impact on house prices. The article suggests that the demand for housing increases when there are good local amenities, which in turn drives up prices.\n",
      "\n",
      "Furthermore, the document \"Vejledning om forsigtighed i kreditvurderingen ved belåning af boliger i vækstområder mv.\" (Appendix 8) also touches upon this topic. It emphasizes the importance of considering local infrastructure and amenities when evaluating the creditworthiness of a borrower.\n",
      "\n",
      "In addition, the interview with Simon Juul Hviid and Jacob Rømeling from Nationalbanken (Appendices 1 and 2) confirms that the presence of good infrastructure has a positive impact on house prices. They mention that well-connected areas tend to have higher property values due to increased demand.\n",
      "\n",
      "To provide more concrete evidence, let's look at some statistics:\n",
      "\n",
      "* According to the document \"Finans Danmark, 2019: Realkredittens historie\" (Appendix 2), between 2002 and 2009, there was a significant increase in house prices in areas with good infrastructure, such as schools and public transportation.\n",
      "* The document \"Wanscher, H., M, 29. marts 2019, Fakta om dansk økonomi\" (Appendix 20) shows that between 1992 and 2021, the population of Copenhagen increased by approximately 25%, which has led to a significant demand for housing.\n",
      "\n",
      "In conclusion, based on the provided documents and appendices, it can be argued that the presence of infrastructure such as schools, public transportation, and shopping opportunities does have a significant impact on house prices. This is supported by statistics showing an increase in house prices in areas with good infrastructure and a growing population demanding more housing."
     ]
    },
    {
     "data": {
      "text/plain": [
       "'Based on the provided documents and appendices, I can help you answer the question.\\n\\nFrom the document \"Møller, J. 5. maj 2021: Flere almene boliger i nye og eksisterende lokalplanområder?\" (Appendix 3), it is mentioned that the presence of infrastructure such as schools and public transportation has a significant impact on house prices. The article suggests that the demand for housing increases when there are good local amenities, which in turn drives up prices.\\n\\nFurthermore, the document \"Vejledning om forsigtighed i kreditvurderingen ved belåning af boliger i vækstområder mv.\" (Appendix 8) also touches upon this topic. It emphasizes the importance of considering local infrastructure and amenities when evaluating the creditworthiness of a borrower.\\n\\nIn addition, the interview with Simon Juul Hviid and Jacob Rømeling from Nationalbanken (Appendices 1 and 2) confirms that the presence of good infrastructure has a positive impact on house prices. They mention that well-connected areas tend to have higher property values due to increased demand.\\n\\nTo provide more concrete evidence, let\\'s look at some statistics:\\n\\n* According to the document \"Finans Danmark, 2019: Realkredittens historie\" (Appendix 2), between 2002 and 2009, there was a significant increase in house prices in areas with good infrastructure, such as schools and public transportation.\\n* The document \"Wanscher, H., M, 29. marts 2019, Fakta om dansk økonomi\" (Appendix 20) shows that between 1992 and 2021, the population of Copenhagen increased by approximately 25%, which has led to a significant demand for housing.\\n\\nIn conclusion, based on the provided documents and appendices, it can be argued that the presence of infrastructure such as schools, public transportation, and shopping opportunities does have a significant impact on house prices. This is supported by statistics showing an increase in house prices in areas with good infrastructure and a growing population demanding more housing.'"
      ]
     },
     "execution_count": 22,
     "metadata": {},
     "output_type": "execute_result"
    }
   ],
   "source": [
    "question = \"Har tilstedeværelsen af infrastruktur som skoler, offentlig transport eller indkøbsmuligheder en signifikant indflydelse på huspriserne?\"\n",
    "result = chain({\"query\": question})\n",
    "result[\"result\"]"
   ]
  },
  {
   "cell_type": "code",
   "execution_count": 23,
   "id": "8515b05f-e719-41e8-80f9-60319b55851c",
   "metadata": {},
   "outputs": [
    {
     "name": "stdout",
     "output_type": "stream",
     "text": [
      "Based on the provided historical data and current trends, it's possible to draw some conclusions about future house prices. However, please note that predicting exact numbers is challenging, and actual outcomes may differ from these predictions.\n",
      "\n",
      "Here are a few observations and potential insights:\n",
      "\n",
      "1. **Historical trend:** The data shows an upward trend in house prices over the years, with some fluctuations. This could indicate a steady increase in demand for housing.\n",
      "2. **Seasonality:** There appears to be a seasonal pattern in the data, with prices tendentially increasing during certain periods (e.g., Q1 and Q3).\n",
      "3. **Regional differences:** The EJS10 and EJS20 tables suggest that house price developments might vary across different regions (kommune). This could be due to local market conditions, demographics, or other factors.\n",
      "4. **Quarterly vs. annual changes:** Comparing the quarterly data (EJS10) with the annual data (EJS20), we can see that some regions experienced more significant price growth in certain years than others. This might indicate a mix of short-term and long-term trends.\n",
      "\n",
      "Using these observations, one could potentially make some predictions about future house prices:\n",
      "\n",
      "* **Continued growth:** Given the historical trend, it's possible that house prices will continue to rise, albeit possibly at a slower rate than in the past.\n",
      "* **Regional variations:** The data suggests that regional differences might persist or even become more pronounced. This could lead to some areas experiencing stronger price growth than others.\n",
      "* **Seasonality:** The seasonal pattern might continue, with prices potentially increasing during certain quarters.\n",
      "\n",
      "Some potential caveats and uncertainties:\n",
      "\n",
      "* **Economic factors:** Economic conditions, such as interest rates, unemployment, and inflation, can influence house prices. Changes in these factors could impact future price developments.\n",
      "* **Government policies:** Government policies, like taxation or regulation changes, might also affect the housing market and prices.\n",
      "* **Demographic shifts:** Changes in demographics, such as population growth, aging, or migration patterns, could influence demand for housing and, subsequently, house prices.\n",
      "\n",
      "Keep in mind that these predictions are based on historical data and current trends. The actual future development of house prices may differ due to various factors not accounted for here.\n",
      "\n",
      "It's also important to note that Danmarks Statistik provides access to the data for research purposes, and it's possible to use this data to create more detailed and nuanced models or predictions about future house prices."
     ]
    },
    {
     "data": {
      "text/plain": [
       "\"Based on the provided historical data and current trends, it's possible to draw some conclusions about future house prices. However, please note that predicting exact numbers is challenging, and actual outcomes may differ from these predictions.\\n\\nHere are a few observations and potential insights:\\n\\n1. **Historical trend:** The data shows an upward trend in house prices over the years, with some fluctuations. This could indicate a steady increase in demand for housing.\\n2. **Seasonality:** There appears to be a seasonal pattern in the data, with prices tendentially increasing during certain periods (e.g., Q1 and Q3).\\n3. **Regional differences:** The EJS10 and EJS20 tables suggest that house price developments might vary across different regions (kommune). This could be due to local market conditions, demographics, or other factors.\\n4. **Quarterly vs. annual changes:** Comparing the quarterly data (EJS10) with the annual data (EJS20), we can see that some regions experienced more significant price growth in certain years than others. This might indicate a mix of short-term and long-term trends.\\n\\nUsing these observations, one could potentially make some predictions about future house prices:\\n\\n* **Continued growth:** Given the historical trend, it's possible that house prices will continue to rise, albeit possibly at a slower rate than in the past.\\n* **Regional variations:** The data suggests that regional differences might persist or even become more pronounced. This could lead to some areas experiencing stronger price growth than others.\\n* **Seasonality:** The seasonal pattern might continue, with prices potentially increasing during certain quarters.\\n\\nSome potential caveats and uncertainties:\\n\\n* **Economic factors:** Economic conditions, such as interest rates, unemployment, and inflation, can influence house prices. Changes in these factors could impact future price developments.\\n* **Government policies:** Government policies, like taxation or regulation changes, might also affect the housing market and prices.\\n* **Demographic shifts:** Changes in demographics, such as population growth, aging, or migration patterns, could influence demand for housing and, subsequently, house prices.\\n\\nKeep in mind that these predictions are based on historical data and current trends. The actual future development of house prices may differ due to various factors not accounted for here.\\n\\nIt's also important to note that Danmarks Statistik provides access to the data for research purposes, and it's possible to use this data to create more detailed and nuanced models or predictions about future house prices.\""
      ]
     },
     "execution_count": 23,
     "metadata": {},
     "output_type": "execute_result"
    }
   ],
   "source": [
    "question = \"Kan du udlede nogen prognoser for fremtidige huspriser baseret på historiske data og aktuelle trends?\"\n",
    "result = chain({\"query\": question})\n",
    "result[\"result\"]"
   ]
  },
  {
   "cell_type": "markdown",
   "id": "f462096a-c6aa-478c-bbb4-be9cc624057a",
   "metadata": {},
   "source": [
    "# Exporting the model"
   ]
  },
  {
   "cell_type": "code",
   "execution_count": 24,
   "id": "9d3ab835-513e-44c0-ac15-31aa6116c126",
   "metadata": {},
   "outputs": [],
   "source": [
    "import pickle\n",
    "pickle.dump(llm, open('./App/models/LLMModel.pkl', 'wb'))"
   ]
  },
  {
   "cell_type": "code",
   "execution_count": null,
   "id": "69b87ce3-c45a-472b-90c7-1331cddd76b7",
   "metadata": {},
   "outputs": [],
   "source": []
  }
 ],
 "metadata": {
  "kernelspec": {
   "display_name": "Python 3 (ipykernel)",
   "language": "python",
   "name": "python3"
  },
  "language_info": {
   "codemirror_mode": {
    "name": "ipython",
    "version": 3
   },
   "file_extension": ".py",
   "mimetype": "text/x-python",
   "name": "python",
   "nbconvert_exporter": "python",
   "pygments_lexer": "ipython3",
   "version": "3.12.3"
  }
 },
 "nbformat": 4,
 "nbformat_minor": 5
}
